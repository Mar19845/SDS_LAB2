{
 "cells": [
  {
   "cell_type": "markdown",
   "id": "8ce98a59-140e-4b84-8b0f-084fc925abbd",
   "metadata": {},
   "source": [
    "# Universidad del Valle de Guatemala\n",
    "### Security Data Science\n",
    "* Juan Marroquin 19845\n",
    "* Carlos Raxtum 19721"
   ]
  },
  {
   "cell_type": "markdown",
   "id": "155847c2-c8ae-4d7d-ae79-6d7509861b04",
   "metadata": {},
   "source": [
    "Import Libraries"
   ]
  },
  {
   "cell_type": "code",
   "execution_count": 1,
   "id": "483b7558-e4e1-41e6-a6bd-895f2ed189e8",
   "metadata": {},
   "outputs": [
    {
     "name": "stdout",
     "output_type": "stream",
     "text": [
      "Defaulting to user installation because normal site-packages is not writeable\n",
      "Requirement already satisfied: nltk in c:\\users\\craxtun\\appdata\\roaming\\python\\python39\\site-packages (3.7)\n",
      "Requirement already satisfied: regex>=2021.8.3 in c:\\users\\craxtun\\appdata\\roaming\\python\\python39\\site-packages (from nltk) (2022.8.17)\n",
      "Requirement already satisfied: click in c:\\users\\craxtun\\appdata\\roaming\\python\\python39\\site-packages (from nltk) (8.0.4)\n",
      "Requirement already satisfied: tqdm in c:\\users\\craxtun\\appdata\\roaming\\python\\python39\\site-packages (from nltk) (4.64.0)\n",
      "Requirement already satisfied: joblib in c:\\users\\craxtun\\appdata\\roaming\\python\\python39\\site-packages (from nltk) (1.1.0)\n",
      "Requirement already satisfied: colorama in c:\\users\\craxtun\\appdata\\roaming\\python\\python39\\site-packages (from click->nltk) (0.4.5)\n"
     ]
    },
    {
     "name": "stderr",
     "output_type": "stream",
     "text": [
      "\n",
      "[notice] A new release of pip is available: 23.0 -> 23.0.1\n",
      "[notice] To update, run: python.exe -m pip install --upgrade pip\n"
     ]
    }
   ],
   "source": [
    "!pip install nltk"
   ]
  },
  {
   "cell_type": "code",
   "execution_count": 2,
   "id": "280470df-0e0b-48f9-a127-b6df697c7b8c",
   "metadata": {},
   "outputs": [
    {
     "name": "stderr",
     "output_type": "stream",
     "text": [
      "C:\\Users\\CRaxtun\\AppData\\Local\\Temp\\ipykernel_26468\\1129064456.py:9: DeprecationWarning: `import pandas_profiling` is going to be deprecated by April 1st. Please use `import ydata_profiling` instead.\n",
      "  import pandas_profiling\n"
     ]
    },
    {
     "name": "stdout",
     "output_type": "stream",
     "text": [
      "showing info https://raw.githubusercontent.com/nltk/nltk_data/gh-pages/index.xml\n"
     ]
    }
   ],
   "source": [
    "import pandas as pd\n",
    "import numpy as np\n",
    "import matplotlib.pyplot as plt\n",
    "import seaborn as sns\n",
    "from sklearn import feature_extraction, tree, model_selection, metrics\n",
    "from sklearn.model_selection import train_test_split\n",
    "import numpy as np\n",
    "import re\n",
    "import pandas_profiling\n",
    "import unicodedata\n",
    "import re\n",
    "import contractions\n",
    "import nltk\n",
    "nltk.download()\n",
    "%matplotlib inline"
   ]
  },
  {
   "cell_type": "markdown",
   "id": "3007acd0-5c65-4e7d-8866-ff5a578228b9",
   "metadata": {},
   "source": [
    "#### Load the datasets"
   ]
  },
  {
   "cell_type": "code",
   "execution_count": 3,
   "id": "3af3f885-c334-4191-8713-5db8633d7641",
   "metadata": {},
   "outputs": [],
   "source": [
    "df1 = pd.read_csv ('enronSpamSubset.csv')\n",
    "#df1.rename({'Unnamed: 0': 'id'}, axis=1, inplace=True)\n",
    "# drop columns \n",
    "df1.drop(['Unnamed: 0.1','Unnamed: 0'], axis = 1, inplace = True) \n",
    "\n",
    "df2 = pd.read_csv ('completeSpamAssassin.csv')\n",
    "df2.drop(['Unnamed: 0'], axis = 1, inplace = True) "
   ]
  },
  {
   "cell_type": "markdown",
   "id": "28606d86-fc3b-4089-93ee-7b6d3d80bca3",
   "metadata": {},
   "source": [
    "##### Show enronSpamSubset data"
   ]
  },
  {
   "cell_type": "code",
   "execution_count": 4,
   "id": "c5c36461-3515-4946-afea-79fd2ce7ad7b",
   "metadata": {},
   "outputs": [
    {
     "data": {
      "text/html": [
       "<div>\n",
       "<style scoped>\n",
       "    .dataframe tbody tr th:only-of-type {\n",
       "        vertical-align: middle;\n",
       "    }\n",
       "\n",
       "    .dataframe tbody tr th {\n",
       "        vertical-align: top;\n",
       "    }\n",
       "\n",
       "    .dataframe thead th {\n",
       "        text-align: right;\n",
       "    }\n",
       "</style>\n",
       "<table border=\"1\" class=\"dataframe\">\n",
       "  <thead>\n",
       "    <tr style=\"text-align: right;\">\n",
       "      <th></th>\n",
       "      <th>Body</th>\n",
       "      <th>Label</th>\n",
       "    </tr>\n",
       "  </thead>\n",
       "  <tbody>\n",
       "    <tr>\n",
       "      <th>0</th>\n",
       "      <td>Subject: stock promo mover : cwtd\\r\\n * * * ur...</td>\n",
       "      <td>1</td>\n",
       "    </tr>\n",
       "    <tr>\n",
       "      <th>1</th>\n",
       "      <td>Subject: are you listed in major search engine...</td>\n",
       "      <td>1</td>\n",
       "    </tr>\n",
       "    <tr>\n",
       "      <th>2</th>\n",
       "      <td>Subject: important information thu , 30 jun 20...</td>\n",
       "      <td>1</td>\n",
       "    </tr>\n",
       "    <tr>\n",
       "      <th>3</th>\n",
       "      <td>Subject: = ? utf - 8 ? q ? bask your life with...</td>\n",
       "      <td>1</td>\n",
       "    </tr>\n",
       "    <tr>\n",
       "      <th>4</th>\n",
       "      <td>Subject: \" bidstogo \" is places to go , things...</td>\n",
       "      <td>1</td>\n",
       "    </tr>\n",
       "  </tbody>\n",
       "</table>\n",
       "</div>"
      ],
      "text/plain": [
       "                                                Body  Label\n",
       "0  Subject: stock promo mover : cwtd\\r\\n * * * ur...      1\n",
       "1  Subject: are you listed in major search engine...      1\n",
       "2  Subject: important information thu , 30 jun 20...      1\n",
       "3  Subject: = ? utf - 8 ? q ? bask your life with...      1\n",
       "4  Subject: \" bidstogo \" is places to go , things...      1"
      ]
     },
     "execution_count": 4,
     "metadata": {},
     "output_type": "execute_result"
    }
   ],
   "source": [
    "df1.head()"
   ]
  },
  {
   "cell_type": "markdown",
   "id": "5ddea038-86dd-4e7b-a345-d014bd2d3cef",
   "metadata": {},
   "source": [
    "##### Show completeSpamAssassin data"
   ]
  },
  {
   "cell_type": "code",
   "execution_count": 5,
   "id": "02da7229-1079-43d2-b0a9-e455cf32c021",
   "metadata": {},
   "outputs": [
    {
     "data": {
      "text/html": [
       "<div>\n",
       "<style scoped>\n",
       "    .dataframe tbody tr th:only-of-type {\n",
       "        vertical-align: middle;\n",
       "    }\n",
       "\n",
       "    .dataframe tbody tr th {\n",
       "        vertical-align: top;\n",
       "    }\n",
       "\n",
       "    .dataframe thead th {\n",
       "        text-align: right;\n",
       "    }\n",
       "</style>\n",
       "<table border=\"1\" class=\"dataframe\">\n",
       "  <thead>\n",
       "    <tr style=\"text-align: right;\">\n",
       "      <th></th>\n",
       "      <th>Body</th>\n",
       "      <th>Label</th>\n",
       "    </tr>\n",
       "  </thead>\n",
       "  <tbody>\n",
       "    <tr>\n",
       "      <th>0</th>\n",
       "      <td>\\r\\nSave up to 70% on Life Insurance.\\r\\nWhy S...</td>\n",
       "      <td>1</td>\n",
       "    </tr>\n",
       "    <tr>\n",
       "      <th>1</th>\n",
       "      <td>1) Fight The Risk of Cancer!\\r\\nhttp://www.adc...</td>\n",
       "      <td>1</td>\n",
       "    </tr>\n",
       "    <tr>\n",
       "      <th>2</th>\n",
       "      <td>1) Fight The Risk of Cancer!\\r\\nhttp://www.adc...</td>\n",
       "      <td>1</td>\n",
       "    </tr>\n",
       "    <tr>\n",
       "      <th>3</th>\n",
       "      <td>##############################################...</td>\n",
       "      <td>1</td>\n",
       "    </tr>\n",
       "    <tr>\n",
       "      <th>4</th>\n",
       "      <td>I thought you might like these:\\r\\n1) Slim Dow...</td>\n",
       "      <td>1</td>\n",
       "    </tr>\n",
       "  </tbody>\n",
       "</table>\n",
       "</div>"
      ],
      "text/plain": [
       "                                                Body  Label\n",
       "0  \\r\\nSave up to 70% on Life Insurance.\\r\\nWhy S...      1\n",
       "1  1) Fight The Risk of Cancer!\\r\\nhttp://www.adc...      1\n",
       "2  1) Fight The Risk of Cancer!\\r\\nhttp://www.adc...      1\n",
       "3  ##############################################...      1\n",
       "4  I thought you might like these:\\r\\n1) Slim Dow...      1"
      ]
     },
     "execution_count": 5,
     "metadata": {},
     "output_type": "execute_result"
    }
   ],
   "source": [
    "df2.head()"
   ]
  },
  {
   "cell_type": "markdown",
   "id": "ede78c89-50d0-493c-8598-29068968a04e",
   "metadata": {},
   "source": [
    "##### Merge both dataframes into one"
   ]
  },
  {
   "cell_type": "code",
   "execution_count": 6,
   "id": "5babdb53-3114-4204-a816-03b03a8dcda1",
   "metadata": {},
   "outputs": [],
   "source": [
    "df = pd.concat([df1,df2], axis=0)"
   ]
  },
  {
   "cell_type": "markdown",
   "id": "f2aeae9a-caa1-48e2-94b8-d30d3f6cc6df",
   "metadata": {},
   "source": [
    "##### Show first 5 rows"
   ]
  },
  {
   "cell_type": "code",
   "execution_count": 7,
   "id": "0fe3a0cf-becf-4b20-90c5-36ab71d8cc2b",
   "metadata": {},
   "outputs": [
    {
     "data": {
      "text/html": [
       "<div>\n",
       "<style scoped>\n",
       "    .dataframe tbody tr th:only-of-type {\n",
       "        vertical-align: middle;\n",
       "    }\n",
       "\n",
       "    .dataframe tbody tr th {\n",
       "        vertical-align: top;\n",
       "    }\n",
       "\n",
       "    .dataframe thead th {\n",
       "        text-align: right;\n",
       "    }\n",
       "</style>\n",
       "<table border=\"1\" class=\"dataframe\">\n",
       "  <thead>\n",
       "    <tr style=\"text-align: right;\">\n",
       "      <th></th>\n",
       "      <th>Body</th>\n",
       "      <th>Label</th>\n",
       "    </tr>\n",
       "  </thead>\n",
       "  <tbody>\n",
       "    <tr>\n",
       "      <th>0</th>\n",
       "      <td>Subject: stock promo mover : cwtd\\r\\n * * * ur...</td>\n",
       "      <td>1</td>\n",
       "    </tr>\n",
       "    <tr>\n",
       "      <th>1</th>\n",
       "      <td>Subject: are you listed in major search engine...</td>\n",
       "      <td>1</td>\n",
       "    </tr>\n",
       "    <tr>\n",
       "      <th>2</th>\n",
       "      <td>Subject: important information thu , 30 jun 20...</td>\n",
       "      <td>1</td>\n",
       "    </tr>\n",
       "    <tr>\n",
       "      <th>3</th>\n",
       "      <td>Subject: = ? utf - 8 ? q ? bask your life with...</td>\n",
       "      <td>1</td>\n",
       "    </tr>\n",
       "    <tr>\n",
       "      <th>4</th>\n",
       "      <td>Subject: \" bidstogo \" is places to go , things...</td>\n",
       "      <td>1</td>\n",
       "    </tr>\n",
       "  </tbody>\n",
       "</table>\n",
       "</div>"
      ],
      "text/plain": [
       "                                                Body  Label\n",
       "0  Subject: stock promo mover : cwtd\\r\\n * * * ur...      1\n",
       "1  Subject: are you listed in major search engine...      1\n",
       "2  Subject: important information thu , 30 jun 20...      1\n",
       "3  Subject: = ? utf - 8 ? q ? bask your life with...      1\n",
       "4  Subject: \" bidstogo \" is places to go , things...      1"
      ]
     },
     "execution_count": 7,
     "metadata": {},
     "output_type": "execute_result"
    }
   ],
   "source": [
    "df.head()"
   ]
  },
  {
   "cell_type": "markdown",
   "id": "8ce15da5-8880-4e8b-aebd-a8fb731433ac",
   "metadata": {},
   "source": [
    "#### Preprocessing the dataset"
   ]
  },
  {
   "cell_type": "code",
   "execution_count": 8,
   "id": "d20bf28f-efc0-4ff7-846e-8c3cbdc4353c",
   "metadata": {},
   "outputs": [],
   "source": [
    "df = df.dropna()"
   ]
  },
  {
   "cell_type": "code",
   "execution_count": 9,
   "id": "6c2d41d8-158a-4268-922c-92fbb6061512",
   "metadata": {},
   "outputs": [],
   "source": [
    "def removerAcentos(text):\n",
    "    text = unicodedata.normalize('NFKD', text).encode('ascii','ignore').decode('utf-8','ignore')\n",
    "    return text"
   ]
  },
  {
   "cell_type": "code",
   "execution_count": 10,
   "id": "925b70dc-eba6-4346-a2f2-03d7404d9107",
   "metadata": {},
   "outputs": [],
   "source": [
    "def removerCaracteresEspecialesNumerosSimbolos(text, remove_digits =False):\n",
    "    patron = r'[^a-zA-Z0-9\\s]' if not remove_digits else r'[^a-zA-Z\\s]'\n",
    "    text = re.sub(patron,'', text)\n",
    "    return text"
   ]
  },
  {
   "cell_type": "code",
   "execution_count": 11,
   "id": "22d577f4-e3b9-4947-92aa-8ea093c289d4",
   "metadata": {},
   "outputs": [],
   "source": [
    "def remomveContractions(text):\n",
    "    text = contractions.fix(text)\n",
    "    return text"
   ]
  },
  {
   "cell_type": "code",
   "execution_count": 12,
   "id": "dc98d12a-5d17-4208-958e-6cac08c93b36",
   "metadata": {},
   "outputs": [],
   "source": [
    "stop_words_english = nltk.corpus.stopwords.words('english')\n",
    "\n",
    "def remove_stop_words(text):\n",
    "    tokens_english = nltk.word_tokenize(contractions.fix(text))\n",
    "    tokens_filtrados_english = [token for token in tokens_english if token not in stop_words_english]\n",
    "    text = ' '.join(tokens_filtrados_english)\n",
    "    return text"
   ]
  },
  {
   "cell_type": "code",
   "execution_count": 13,
   "id": "c30516ab-c6a6-45f8-a030-9ccc8a5afad8",
   "metadata": {},
   "outputs": [],
   "source": [
    "df['Body'] = df['Body'].str.lower()"
   ]
  },
  {
   "cell_type": "code",
   "execution_count": 14,
   "id": "135ee123-e54d-453b-86ab-cca6086a7191",
   "metadata": {},
   "outputs": [],
   "source": [
    "df['Body'] = df['Body'].apply(removerCaracteresEspecialesNumerosSimbolos)\n",
    "df['Body'] = df['Body'].apply(removerAcentos)\n",
    "df['Body'] = df['Body'].apply(remomveContractions)\n",
    "df['Body'] = df['Body'].apply(remove_stop_words)"
   ]
  },
  {
   "cell_type": "code",
   "execution_count": 15,
   "id": "5a7a0fe9-8804-4477-9d06-bc461cf09cb4",
   "metadata": {},
   "outputs": [
    {
     "data": {
      "text/html": [
       "<div>\n",
       "<style scoped>\n",
       "    .dataframe tbody tr th:only-of-type {\n",
       "        vertical-align: middle;\n",
       "    }\n",
       "\n",
       "    .dataframe tbody tr th {\n",
       "        vertical-align: top;\n",
       "    }\n",
       "\n",
       "    .dataframe thead th {\n",
       "        text-align: right;\n",
       "    }\n",
       "</style>\n",
       "<table border=\"1\" class=\"dataframe\">\n",
       "  <thead>\n",
       "    <tr style=\"text-align: right;\">\n",
       "      <th></th>\n",
       "      <th>Body</th>\n",
       "      <th>Label</th>\n",
       "    </tr>\n",
       "  </thead>\n",
       "  <tbody>\n",
       "    <tr>\n",
       "      <th>0</th>\n",
       "      <td>subject stock promo mover cwtd urgent investor...</td>\n",
       "      <td>1</td>\n",
       "    </tr>\n",
       "    <tr>\n",
       "      <th>1</th>\n",
       "      <td>subject listed major search engines submitting...</td>\n",
       "      <td>1</td>\n",
       "    </tr>\n",
       "    <tr>\n",
       "      <th>2</th>\n",
       "      <td>subject important information thu 30 jun 2005 ...</td>\n",
       "      <td>1</td>\n",
       "    </tr>\n",
       "    <tr>\n",
       "      <th>3</th>\n",
       "      <td>subject utf 8 q bask life utf 8 q individual i...</td>\n",
       "      <td>1</td>\n",
       "    </tr>\n",
       "    <tr>\n",
       "      <th>4</th>\n",
       "      <td>subject bidstogo places go things hello privac...</td>\n",
       "      <td>1</td>\n",
       "    </tr>\n",
       "  </tbody>\n",
       "</table>\n",
       "</div>"
      ],
      "text/plain": [
       "                                                Body  Label\n",
       "0  subject stock promo mover cwtd urgent investor...      1\n",
       "1  subject listed major search engines submitting...      1\n",
       "2  subject important information thu 30 jun 2005 ...      1\n",
       "3  subject utf 8 q bask life utf 8 q individual i...      1\n",
       "4  subject bidstogo places go things hello privac...      1"
      ]
     },
     "execution_count": 15,
     "metadata": {},
     "output_type": "execute_result"
    }
   ],
   "source": [
    "df.head()"
   ]
  },
  {
   "cell_type": "markdown",
   "id": "bdeddf81-9aee-4bbd-83de-f602e97ba23f",
   "metadata": {},
   "source": [
    "#### Data representation"
   ]
  },
  {
   "cell_type": "code",
   "execution_count": 16,
   "id": "a0c24bec-3b83-4aee-9eda-4643a68eeb60",
   "metadata": {},
   "outputs": [],
   "source": [
    "from sklearn.feature_extraction.text import CountVectorizer\n",
    "from sklearn.feature_extraction.text import TfidfVectorizer\n",
    "from nltk.corpus import stopwords"
   ]
  },
  {
   "cell_type": "code",
   "execution_count": 17,
   "id": "f20cf2e6",
   "metadata": {},
   "outputs": [
    {
     "data": {
      "text/plain": [
       "array([[0, 0, 1, ..., 0, 1, 1],\n",
       "       [0, 0, 0, ..., 0, 0, 0],\n",
       "       [0, 0, 0, ..., 0, 0, 0],\n",
       "       ...,\n",
       "       [1, 0, 1, ..., 1, 0, 2],\n",
       "       [0, 0, 0, ..., 0, 0, 0],\n",
       "       [0, 0, 0, ..., 0, 0, 0]], dtype=int64)"
      ]
     },
     "execution_count": 17,
     "metadata": {},
     "output_type": "execute_result"
    }
   ],
   "source": [
    "cv = CountVectorizer(min_df=0.1, max_df=0.9)\n",
    "cv_matrix = cv.fit_transform(df['Body'])\n",
    "cv_matrix = cv_matrix.toarray()\n",
    "cv_matrix"
   ]
  },
  {
   "cell_type": "code",
   "execution_count": 18,
   "id": "303e934f",
   "metadata": {},
   "outputs": [
    {
     "name": "stderr",
     "output_type": "stream",
     "text": [
      "C:\\Users\\CRaxtun\\AppData\\Roaming\\Python\\Python39\\site-packages\\sklearn\\utils\\deprecation.py:87: FutureWarning: Function get_feature_names is deprecated; get_feature_names is deprecated in 1.0 and will be removed in 1.2. Please use get_feature_names_out instead.\n",
      "  warnings.warn(msg, category=FutureWarning)\n"
     ]
    }
   ],
   "source": [
    "# Palabras únicas del corpus\n",
    "vocabulario = cv.get_feature_names()\n",
    "# Mostrar el vector\n",
    "df_cv = pd.DataFrame(cv_matrix, columns=vocabulario)\n",
    "cv_target = df['Label']"
   ]
  },
  {
   "cell_type": "code",
   "execution_count": 19,
   "id": "b4547bcc",
   "metadata": {},
   "outputs": [
    {
     "data": {
      "text/html": [
       "<div>\n",
       "<style scoped>\n",
       "    .dataframe tbody tr th:only-of-type {\n",
       "        vertical-align: middle;\n",
       "    }\n",
       "\n",
       "    .dataframe tbody tr th {\n",
       "        vertical-align: top;\n",
       "    }\n",
       "\n",
       "    .dataframe thead th {\n",
       "        text-align: right;\n",
       "    }\n",
       "</style>\n",
       "<table border=\"1\" class=\"dataframe\">\n",
       "  <thead>\n",
       "    <tr style=\"text-align: right;\">\n",
       "      <th></th>\n",
       "      <th>10</th>\n",
       "      <th>2000</th>\n",
       "      <th>2002</th>\n",
       "      <th>also</th>\n",
       "      <th>best</th>\n",
       "      <th>business</th>\n",
       "      <th>cc</th>\n",
       "      <th>click</th>\n",
       "      <th>com</th>\n",
       "      <th>company</th>\n",
       "      <th>...</th>\n",
       "      <th>thanks</th>\n",
       "      <th>time</th>\n",
       "      <th>today</th>\n",
       "      <th>us</th>\n",
       "      <th>use</th>\n",
       "      <th>want</th>\n",
       "      <th>way</th>\n",
       "      <th>well</th>\n",
       "      <th>work</th>\n",
       "      <th>would</th>\n",
       "    </tr>\n",
       "  </thead>\n",
       "  <tbody>\n",
       "    <tr>\n",
       "      <th>0</th>\n",
       "      <td>0</td>\n",
       "      <td>0</td>\n",
       "      <td>1</td>\n",
       "      <td>0</td>\n",
       "      <td>0</td>\n",
       "      <td>4</td>\n",
       "      <td>0</td>\n",
       "      <td>0</td>\n",
       "      <td>0</td>\n",
       "      <td>6</td>\n",
       "      <td>...</td>\n",
       "      <td>0</td>\n",
       "      <td>2</td>\n",
       "      <td>2</td>\n",
       "      <td>0</td>\n",
       "      <td>1</td>\n",
       "      <td>0</td>\n",
       "      <td>0</td>\n",
       "      <td>0</td>\n",
       "      <td>1</td>\n",
       "      <td>1</td>\n",
       "    </tr>\n",
       "    <tr>\n",
       "      <th>1</th>\n",
       "      <td>0</td>\n",
       "      <td>0</td>\n",
       "      <td>0</td>\n",
       "      <td>0</td>\n",
       "      <td>1</td>\n",
       "      <td>1</td>\n",
       "      <td>0</td>\n",
       "      <td>0</td>\n",
       "      <td>0</td>\n",
       "      <td>0</td>\n",
       "      <td>...</td>\n",
       "      <td>0</td>\n",
       "      <td>1</td>\n",
       "      <td>0</td>\n",
       "      <td>0</td>\n",
       "      <td>0</td>\n",
       "      <td>1</td>\n",
       "      <td>1</td>\n",
       "      <td>0</td>\n",
       "      <td>0</td>\n",
       "      <td>0</td>\n",
       "    </tr>\n",
       "    <tr>\n",
       "      <th>2</th>\n",
       "      <td>0</td>\n",
       "      <td>0</td>\n",
       "      <td>0</td>\n",
       "      <td>0</td>\n",
       "      <td>1</td>\n",
       "      <td>0</td>\n",
       "      <td>0</td>\n",
       "      <td>0</td>\n",
       "      <td>2</td>\n",
       "      <td>0</td>\n",
       "      <td>...</td>\n",
       "      <td>0</td>\n",
       "      <td>0</td>\n",
       "      <td>0</td>\n",
       "      <td>1</td>\n",
       "      <td>0</td>\n",
       "      <td>0</td>\n",
       "      <td>0</td>\n",
       "      <td>0</td>\n",
       "      <td>0</td>\n",
       "      <td>0</td>\n",
       "    </tr>\n",
       "    <tr>\n",
       "      <th>3</th>\n",
       "      <td>0</td>\n",
       "      <td>0</td>\n",
       "      <td>0</td>\n",
       "      <td>0</td>\n",
       "      <td>0</td>\n",
       "      <td>0</td>\n",
       "      <td>0</td>\n",
       "      <td>0</td>\n",
       "      <td>0</td>\n",
       "      <td>0</td>\n",
       "      <td>...</td>\n",
       "      <td>0</td>\n",
       "      <td>0</td>\n",
       "      <td>0</td>\n",
       "      <td>0</td>\n",
       "      <td>0</td>\n",
       "      <td>0</td>\n",
       "      <td>0</td>\n",
       "      <td>0</td>\n",
       "      <td>0</td>\n",
       "      <td>0</td>\n",
       "    </tr>\n",
       "    <tr>\n",
       "      <th>4</th>\n",
       "      <td>0</td>\n",
       "      <td>0</td>\n",
       "      <td>0</td>\n",
       "      <td>0</td>\n",
       "      <td>0</td>\n",
       "      <td>0</td>\n",
       "      <td>0</td>\n",
       "      <td>0</td>\n",
       "      <td>0</td>\n",
       "      <td>0</td>\n",
       "      <td>...</td>\n",
       "      <td>0</td>\n",
       "      <td>0</td>\n",
       "      <td>0</td>\n",
       "      <td>0</td>\n",
       "      <td>1</td>\n",
       "      <td>0</td>\n",
       "      <td>0</td>\n",
       "      <td>0</td>\n",
       "      <td>0</td>\n",
       "      <td>0</td>\n",
       "    </tr>\n",
       "  </tbody>\n",
       "</table>\n",
       "<p>5 rows × 53 columns</p>\n",
       "</div>"
      ],
      "text/plain": [
       "   10  2000  2002  also  best  business  cc  click  com  company  ...  thanks  \\\n",
       "0   0     0     1     0     0         4   0      0    0        6  ...       0   \n",
       "1   0     0     0     0     1         1   0      0    0        0  ...       0   \n",
       "2   0     0     0     0     1         0   0      0    2        0  ...       0   \n",
       "3   0     0     0     0     0         0   0      0    0        0  ...       0   \n",
       "4   0     0     0     0     0         0   0      0    0        0  ...       0   \n",
       "\n",
       "   time  today  us  use  want  way  well  work  would  \n",
       "0     2      2   0    1     0    0     0     1      1  \n",
       "1     1      0   0    0     1    1     0     0      0  \n",
       "2     0      0   1    0     0    0     0     0      0  \n",
       "3     0      0   0    0     0    0     0     0      0  \n",
       "4     0      0   0    1     0    0     0     0      0  \n",
       "\n",
       "[5 rows x 53 columns]"
      ]
     },
     "execution_count": 19,
     "metadata": {},
     "output_type": "execute_result"
    }
   ],
   "source": [
    "df_cv.head()"
   ]
  },
  {
   "cell_type": "code",
   "execution_count": 20,
   "id": "94bdcc1e",
   "metadata": {},
   "outputs": [],
   "source": [
    "tfidf = TfidfVectorizer(min_df=0.1, max_df=0.9, use_idf=True)\n",
    "tfidf_matrix = tfidf.fit_transform(df['Body'])\n",
    "tfidf_matrix = tfidf_matrix.toarray()"
   ]
  },
  {
   "cell_type": "code",
   "execution_count": 21,
   "id": "2226c0bb",
   "metadata": {},
   "outputs": [
    {
     "name": "stderr",
     "output_type": "stream",
     "text": [
      "C:\\Users\\CRaxtun\\AppData\\Roaming\\Python\\Python39\\site-packages\\sklearn\\utils\\deprecation.py:87: FutureWarning: Function get_feature_names is deprecated; get_feature_names is deprecated in 1.0 and will be removed in 1.2. Please use get_feature_names_out instead.\n",
      "  warnings.warn(msg, category=FutureWarning)\n"
     ]
    }
   ],
   "source": [
    "vocabulario = tfidf.get_feature_names()\n",
    "df_tfidf = pd.DataFrame(np.round(tfidf_matrix, 2), columns=vocabulario)\n",
    "tfidf_target = df['Label']"
   ]
  },
  {
   "cell_type": "code",
   "execution_count": 22,
   "id": "020d3f8e",
   "metadata": {},
   "outputs": [
    {
     "data": {
      "text/html": [
       "<div>\n",
       "<style scoped>\n",
       "    .dataframe tbody tr th:only-of-type {\n",
       "        vertical-align: middle;\n",
       "    }\n",
       "\n",
       "    .dataframe tbody tr th {\n",
       "        vertical-align: top;\n",
       "    }\n",
       "\n",
       "    .dataframe thead th {\n",
       "        text-align: right;\n",
       "    }\n",
       "</style>\n",
       "<table border=\"1\" class=\"dataframe\">\n",
       "  <thead>\n",
       "    <tr style=\"text-align: right;\">\n",
       "      <th></th>\n",
       "      <th>10</th>\n",
       "      <th>2000</th>\n",
       "      <th>2002</th>\n",
       "      <th>also</th>\n",
       "      <th>best</th>\n",
       "      <th>business</th>\n",
       "      <th>cc</th>\n",
       "      <th>click</th>\n",
       "      <th>com</th>\n",
       "      <th>company</th>\n",
       "      <th>...</th>\n",
       "      <th>thanks</th>\n",
       "      <th>time</th>\n",
       "      <th>today</th>\n",
       "      <th>us</th>\n",
       "      <th>use</th>\n",
       "      <th>want</th>\n",
       "      <th>way</th>\n",
       "      <th>well</th>\n",
       "      <th>work</th>\n",
       "      <th>would</th>\n",
       "    </tr>\n",
       "  </thead>\n",
       "  <tbody>\n",
       "    <tr>\n",
       "      <th>0</th>\n",
       "      <td>0.0</td>\n",
       "      <td>0.0</td>\n",
       "      <td>0.1</td>\n",
       "      <td>0.0</td>\n",
       "      <td>0.00</td>\n",
       "      <td>0.38</td>\n",
       "      <td>0.0</td>\n",
       "      <td>0.0</td>\n",
       "      <td>0.0</td>\n",
       "      <td>0.6</td>\n",
       "      <td>...</td>\n",
       "      <td>0.0</td>\n",
       "      <td>0.16</td>\n",
       "      <td>0.2</td>\n",
       "      <td>0.00</td>\n",
       "      <td>0.09</td>\n",
       "      <td>0.00</td>\n",
       "      <td>0.00</td>\n",
       "      <td>0.0</td>\n",
       "      <td>0.1</td>\n",
       "      <td>0.08</td>\n",
       "    </tr>\n",
       "    <tr>\n",
       "      <th>1</th>\n",
       "      <td>0.0</td>\n",
       "      <td>0.0</td>\n",
       "      <td>0.0</td>\n",
       "      <td>0.0</td>\n",
       "      <td>0.33</td>\n",
       "      <td>0.33</td>\n",
       "      <td>0.0</td>\n",
       "      <td>0.0</td>\n",
       "      <td>0.0</td>\n",
       "      <td>0.0</td>\n",
       "      <td>...</td>\n",
       "      <td>0.0</td>\n",
       "      <td>0.27</td>\n",
       "      <td>0.0</td>\n",
       "      <td>0.00</td>\n",
       "      <td>0.00</td>\n",
       "      <td>0.32</td>\n",
       "      <td>0.34</td>\n",
       "      <td>0.0</td>\n",
       "      <td>0.0</td>\n",
       "      <td>0.00</td>\n",
       "    </tr>\n",
       "    <tr>\n",
       "      <th>2</th>\n",
       "      <td>0.0</td>\n",
       "      <td>0.0</td>\n",
       "      <td>0.0</td>\n",
       "      <td>0.0</td>\n",
       "      <td>0.28</td>\n",
       "      <td>0.00</td>\n",
       "      <td>0.0</td>\n",
       "      <td>0.0</td>\n",
       "      <td>0.5</td>\n",
       "      <td>0.0</td>\n",
       "      <td>...</td>\n",
       "      <td>0.0</td>\n",
       "      <td>0.00</td>\n",
       "      <td>0.0</td>\n",
       "      <td>0.24</td>\n",
       "      <td>0.00</td>\n",
       "      <td>0.00</td>\n",
       "      <td>0.00</td>\n",
       "      <td>0.0</td>\n",
       "      <td>0.0</td>\n",
       "      <td>0.00</td>\n",
       "    </tr>\n",
       "    <tr>\n",
       "      <th>3</th>\n",
       "      <td>0.0</td>\n",
       "      <td>0.0</td>\n",
       "      <td>0.0</td>\n",
       "      <td>0.0</td>\n",
       "      <td>0.00</td>\n",
       "      <td>0.00</td>\n",
       "      <td>0.0</td>\n",
       "      <td>0.0</td>\n",
       "      <td>0.0</td>\n",
       "      <td>0.0</td>\n",
       "      <td>...</td>\n",
       "      <td>0.0</td>\n",
       "      <td>0.00</td>\n",
       "      <td>0.0</td>\n",
       "      <td>0.00</td>\n",
       "      <td>0.00</td>\n",
       "      <td>0.00</td>\n",
       "      <td>0.00</td>\n",
       "      <td>0.0</td>\n",
       "      <td>0.0</td>\n",
       "      <td>0.00</td>\n",
       "    </tr>\n",
       "    <tr>\n",
       "      <th>4</th>\n",
       "      <td>0.0</td>\n",
       "      <td>0.0</td>\n",
       "      <td>0.0</td>\n",
       "      <td>0.0</td>\n",
       "      <td>0.00</td>\n",
       "      <td>0.00</td>\n",
       "      <td>0.0</td>\n",
       "      <td>0.0</td>\n",
       "      <td>0.0</td>\n",
       "      <td>0.0</td>\n",
       "      <td>...</td>\n",
       "      <td>0.0</td>\n",
       "      <td>0.00</td>\n",
       "      <td>0.0</td>\n",
       "      <td>0.00</td>\n",
       "      <td>0.19</td>\n",
       "      <td>0.00</td>\n",
       "      <td>0.00</td>\n",
       "      <td>0.0</td>\n",
       "      <td>0.0</td>\n",
       "      <td>0.00</td>\n",
       "    </tr>\n",
       "  </tbody>\n",
       "</table>\n",
       "<p>5 rows × 53 columns</p>\n",
       "</div>"
      ],
      "text/plain": [
       "    10  2000  2002  also  best  business   cc  click  com  company  ...  \\\n",
       "0  0.0   0.0   0.1   0.0  0.00      0.38  0.0    0.0  0.0      0.6  ...   \n",
       "1  0.0   0.0   0.0   0.0  0.33      0.33  0.0    0.0  0.0      0.0  ...   \n",
       "2  0.0   0.0   0.0   0.0  0.28      0.00  0.0    0.0  0.5      0.0  ...   \n",
       "3  0.0   0.0   0.0   0.0  0.00      0.00  0.0    0.0  0.0      0.0  ...   \n",
       "4  0.0   0.0   0.0   0.0  0.00      0.00  0.0    0.0  0.0      0.0  ...   \n",
       "\n",
       "   thanks  time  today    us   use  want   way  well  work  would  \n",
       "0     0.0  0.16    0.2  0.00  0.09  0.00  0.00   0.0   0.1   0.08  \n",
       "1     0.0  0.27    0.0  0.00  0.00  0.32  0.34   0.0   0.0   0.00  \n",
       "2     0.0  0.00    0.0  0.24  0.00  0.00  0.00   0.0   0.0   0.00  \n",
       "3     0.0  0.00    0.0  0.00  0.00  0.00  0.00   0.0   0.0   0.00  \n",
       "4     0.0  0.00    0.0  0.00  0.19  0.00  0.00   0.0   0.0   0.00  \n",
       "\n",
       "[5 rows x 53 columns]"
      ]
     },
     "execution_count": 22,
     "metadata": {},
     "output_type": "execute_result"
    }
   ],
   "source": [
    "df_tfidf.head()"
   ]
  },
  {
   "cell_type": "markdown",
   "id": "2621223b-3643-4169-ba12-aa13561ca9f8",
   "metadata": {},
   "source": [
    "## Model Implementation"
   ]
  },
  {
   "cell_type": "markdown",
   "id": "6bb73160-3fd6-4b92-b542-45619fb869da",
   "metadata": {},
   "source": [
    "#### Create the train,test and validation\n",
    "* train size 70%\n",
    "* test size 30%"
   ]
  },
  {
   "cell_type": "markdown",
   "id": "41bba858-a348-41dc-9fa6-f746018a5719",
   "metadata": {},
   "source": [
    "#### Create NaiveBayes multinomial"
   ]
  },
  {
   "cell_type": "code",
   "execution_count": 23,
   "id": "5977e1c6-937b-4736-846a-46d23bf1ab2e",
   "metadata": {},
   "outputs": [],
   "source": [
    "from sklearn.naive_bayes import MultinomialNB\n",
    "from sklearn.model_selection import train_test_split\n",
    "from sklearn.metrics import classification_report, confusion_matrix"
   ]
  },
  {
   "cell_type": "markdown",
   "id": "3b21086b-94c8-49f4-9bed-5ab31676732b",
   "metadata": {},
   "source": [
    "* Matriz de confusión\n",
    "* Precision\n",
    "* Recall\n",
    "* F1 Score"
   ]
  },
  {
   "cell_type": "code",
   "execution_count": 24,
   "id": "12ba15bb-b249-493e-8213-60e035901c00",
   "metadata": {},
   "outputs": [],
   "source": [
    "test_ratio = 0.3"
   ]
  },
  {
   "cell_type": "code",
   "execution_count": 25,
   "id": "11aec9f2-c45b-4e6d-9eb7-1ad24b844504",
   "metadata": {},
   "outputs": [],
   "source": [
    "bayesBOG = MultinomialNB()"
   ]
  },
  {
   "cell_type": "code",
   "execution_count": 26,
   "id": "cc0c53bc",
   "metadata": {},
   "outputs": [],
   "source": [
    "bog_x_train, bog_x_test, bog_y_train, bog_y_test = train_test_split(df_cv, np.asarray(cv_target), test_size = test_ratio)"
   ]
  },
  {
   "cell_type": "code",
   "execution_count": 27,
   "id": "e80f3b5f",
   "metadata": {},
   "outputs": [
    {
     "data": {
      "text/plain": [
       "MultinomialNB()"
      ]
     },
     "execution_count": 27,
     "metadata": {},
     "output_type": "execute_result"
    }
   ],
   "source": [
    "bayesBOG.fit(bog_x_train, bog_y_train)"
   ]
  },
  {
   "cell_type": "code",
   "execution_count": 28,
   "id": "289ae378",
   "metadata": {},
   "outputs": [
    {
     "data": {
      "text/plain": [
       "array([[2142,  586],\n",
       "       [ 468, 1618]], dtype=int64)"
      ]
     },
     "execution_count": 28,
     "metadata": {},
     "output_type": "execute_result"
    }
   ],
   "source": [
    "bog_y_pred = bayesBOG.predict(bog_x_test)\n",
    "\n",
    "bog_cf_matrix = confusion_matrix(bog_y_test, bog_y_pred)\n",
    "bog_cf_matrix"
   ]
  },
  {
   "cell_type": "code",
   "execution_count": 29,
   "id": "50c2ad39",
   "metadata": {},
   "outputs": [
    {
     "data": {
      "image/png": "[encoded data removed]",
      "text/plain": [
       "<Figure size 640x480 with 2 Axes>"
      ]
     },
     "metadata": {},
     "output_type": "display_data"
    }
   ],
   "source": [
    "## plot de matriz de confusion\n",
    "group_names = ['Real Negativo','Falso Positivo','Falso Negativo','Real Positivo']\n",
    "group_counts = [\"{0:0.0f}\".format(value) for value in bog_cf_matrix.flatten()]\n",
    "group_percentages = [\"{0:.2%}\".format(value) for value in bog_cf_matrix.flatten()/np.sum(bog_cf_matrix)]\n",
    "\n",
    "labels = [f\"{v1}\\n{v2}\\n{v3}\" for v1, v2, v3 in zip(group_names,group_counts,group_percentages)]\n",
    "labels = np.asarray(labels).reshape(2,2)\n",
    "\n",
    "ax = sns.heatmap(bog_cf_matrix, annot=labels, fmt='', cmap='BuPu')\n",
    "\n",
    "ax.set_title('Matriz de Confusión (Bag of N-grams)\\n');\n",
    "\n",
    "ax.xaxis.set_ticklabels(['Ham','Spam'])\n",
    "ax.yaxis.set_ticklabels(['Ham','Spam'])\n",
    "ax.set_xlabel('Valores Predichos');\n",
    "ax.set_ylabel('Valores Correctos ');"
   ]
  },
  {
   "cell_type": "code",
   "execution_count": 30,
   "id": "c8105b7a",
   "metadata": {},
   "outputs": [
    {
     "name": "stdout",
     "output_type": "stream",
     "text": [
      "              precision    recall  f1-score   support\n",
      "\n",
      "           0       0.82      0.79      0.80      2728\n",
      "           1       0.73      0.78      0.75      2086\n",
      "\n",
      "    accuracy                           0.78      4814\n",
      "   macro avg       0.78      0.78      0.78      4814\n",
      "weighted avg       0.78      0.78      0.78      4814\n",
      "\n"
     ]
    }
   ],
   "source": [
    "bog_classification_report = classification_report(bog_y_test, bog_y_pred)\n",
    "print(bog_classification_report)"
   ]
  },
  {
   "cell_type": "markdown",
   "id": "f42e3da2",
   "metadata": {},
   "source": [
    "### Modelo para TF-IDF"
   ]
  },
  {
   "cell_type": "code",
   "execution_count": 31,
   "id": "f3b3955f",
   "metadata": {},
   "outputs": [],
   "source": [
    "tf_x_train, tf_x_test, tf_y_train, tf_y_test = train_test_split(df_tfidf, tfidf_target, test_size = test_ratio)"
   ]
  },
  {
   "cell_type": "code",
   "execution_count": 32,
   "id": "9f2a06ef",
   "metadata": {},
   "outputs": [],
   "source": [
    "bayesTF = MultinomialNB()"
   ]
  },
  {
   "cell_type": "code",
   "execution_count": 33,
   "id": "90cd20db",
   "metadata": {},
   "outputs": [
    {
     "data": {
      "text/plain": [
       "MultinomialNB()"
      ]
     },
     "execution_count": 33,
     "metadata": {},
     "output_type": "execute_result"
    }
   ],
   "source": [
    "bayesTF.fit(tf_x_train, tf_y_train)"
   ]
  },
  {
   "cell_type": "code",
   "execution_count": 34,
   "id": "8ef047ab",
   "metadata": {},
   "outputs": [
    {
     "data": {
      "text/plain": [
       "array([[2498,  339],\n",
       "       [ 408, 1569]], dtype=int64)"
      ]
     },
     "execution_count": 34,
     "metadata": {},
     "output_type": "execute_result"
    }
   ],
   "source": [
    "tf_y_pred = bayesTF.predict(tf_x_test)\n",
    "\n",
    "tf_cf_matrix = confusion_matrix(tf_y_test, tf_y_pred)\n",
    "tf_cf_matrix"
   ]
  },
  {
   "cell_type": "code",
   "execution_count": 35,
   "id": "7f31cf79",
   "metadata": {},
   "outputs": [
    {
     "data": {
      "image/png": "[encoded data removed]",
      "text/plain": [
       "<Figure size 640x480 with 2 Axes>"
      ]
     },
     "metadata": {},
     "output_type": "display_data"
    }
   ],
   "source": [
    "## plot de matriz de confusion\n",
    "group_names = ['Real Negativo','Falso Positivo','Falso Negativo','Real Positivo']\n",
    "group_counts = [\"{0:0.0f}\".format(value) for value in tf_cf_matrix.flatten()]\n",
    "group_percentages = [\"{0:.2%}\".format(value) for value in tf_cf_matrix.flatten()/np.sum(tf_cf_matrix)]\n",
    "\n",
    "labels = [f\"{v1}\\n{v2}\\n{v3}\" for v1, v2, v3 in zip(group_names,group_counts,group_percentages)]\n",
    "labels = np.asarray(labels).reshape(2,2)\n",
    "\n",
    "ax = sns.heatmap(tf_cf_matrix, annot=labels, fmt='', cmap='BuPu')\n",
    "\n",
    "ax.set_title('Matriz de Confusión (TF-IDF)\\n');\n",
    "\n",
    "ax.xaxis.set_ticklabels(['Ham','Spam'])\n",
    "ax.yaxis.set_ticklabels(['Ham','Spam'])\n",
    "ax.set_xlabel('Valores Predichos');\n",
    "ax.set_ylabel('Valores Correctos ');"
   ]
  },
  {
   "cell_type": "code",
   "execution_count": 36,
   "id": "a1338289",
   "metadata": {},
   "outputs": [
    {
     "name": "stdout",
     "output_type": "stream",
     "text": [
      "              precision    recall  f1-score   support\n",
      "\n",
      "           0       0.86      0.88      0.87      2837\n",
      "           1       0.82      0.79      0.81      1977\n",
      "\n",
      "    accuracy                           0.84      4814\n",
      "   macro avg       0.84      0.84      0.84      4814\n",
      "weighted avg       0.84      0.84      0.84      4814\n",
      "\n"
     ]
    }
   ],
   "source": [
    "classification_report = classification_report(tf_y_test, tf_y_pred)\n",
    "print(classification_report)"
   ]
  },
  {
   "cell_type": "markdown",
   "id": "9827513e",
   "metadata": {},
   "source": [
    "### Conclusión \n"
   ]
  },
  {
   "cell_type": "markdown",
   "id": "af7d0b94",
   "metadata": {},
   "source": [
    "Compare los valores para cada modelo de representación numérico. ¿Qué modelo produjo el mejor \n",
    "resultado, BoG o TF-IDF? ¿A que se debe la mejora? Explique los valores obtenidos en las métricas \n",
    "para el mejor modelo. "
   ]
  },
  {
   "cell_type": "markdown",
   "id": "4f5259b2",
   "metadata": {},
   "source": [
    "Las matrices de confusion para ambos modelos son buenas pero no es 100% efectivo, con solamente un 21.89% de valores clasificados \"incorrectamente\" en el modelo BoG y un 15.52% en el modelo TF-IDF. Ambos resultados son satisfactorios pero no ideales, Estos representan modelos con un rendimiento  bueno para clasificar correos, y puede que se pudiera lograr mas eficiencia con una mejor limpieza de datos para que se le facilitara a los modelos las clasificaciones. Tambien, el modelo 2 presenta un número menor en los casos de falsos negativos, los cuales hacen alusión a casos en los que el modelo clasifica correos de SPAM como no SPAM. Debido a que estos son los casos que se buscan minimizar, consideramos que el segundo modelo presenta mejores valores al momento de la comparación."
   ]
  },
  {
   "cell_type": "markdown",
   "id": "90940642",
   "metadata": {},
   "source": [
    "#### Recall"
   ]
  },
  {
   "cell_type": "markdown",
   "id": "c65fe321",
   "metadata": {},
   "source": [
    "El recall nos permite conocer (para cada categoría): del total de entradas pertenecientes a esa categoría, cuántas de ellas fueron clasificadas por el modelo como tal.\n",
    "\n",
    "Podemos observar que para el primero modelo (BoG) el recall para las clases 0 y 1 es de .79 y .78 respectivamente. podemos ver que se balancea para ambas clases. Como el \"label\" que más nos interesa es el de SPAM, podemos decir que el modelo clasificó como SPAM el 79% de los mensajes \"true\" de SPAM.\n",
    "\n",
    "Igualmente, podemos observar que el recall para el modelo utilizando TF-IDF tiene un valor de .88 y 0.79. Aqui si se puede ver una mayor distancia en los porcentajes. y es mas efectivo identificandolos para el primer caso"
   ]
  },
  {
   "cell_type": "markdown",
   "id": "739f6856",
   "metadata": {},
   "source": [
    "#### Accuracy"
   ]
  },
  {
   "cell_type": "markdown",
   "id": "190a745a",
   "metadata": {},
   "source": [
    "Se tuvo un mayor acurracy en el segundo modelo con 84% de presicion y en el primer modelo se tuvo un acurracy de 0.78"
   ]
  },
  {
   "cell_type": "markdown",
   "id": "b705ded3",
   "metadata": {},
   "source": [
    "#### Presicion"
   ]
  },
  {
   "cell_type": "markdown",
   "id": "0b07a798",
   "metadata": {},
   "source": [
    "La métrica de precision nos permite ver cuántos valores de los que se identificaron dentro de una categoría, pertenecen realmente a esa categoría\n",
    "\n",
    "En el caso del primer modelo, la precision es del .82 y .73 para las clases 0 y 1 respectivamente. Centrándonos en la categoría de SPAM, podemos ver que de los casos que el modelo detectó como SPAM, el 73% realmente lo era aunque existen casos atipicos donde el modelo no los reconoce\n",
    "\n",
    "Por otra parte, el segundo modelo tiene valores similares: .86 y .82 para las clases 0 y 1, variando únicamente por 4 decimales la clase de los mensajes que no son SPAM."
   ]
  },
  {
   "cell_type": "markdown",
   "id": "679a6e9d",
   "metadata": {},
   "source": [
    "#### F1 Score"
   ]
  },
  {
   "cell_type": "markdown",
   "id": "28d127fc",
   "metadata": {},
   "source": [
    "Este valor es un tradeoff entre la precision y el recall.\n",
    "\n",
    "Para el modelo BoG, el F1 Score fue de .80 y .75 para las clases 0 y 1. Esto represante nuevamente valores aceptables aunque no tan certeros, e indica que tanto la precision como el recall son alto, pero hay un pequeño porcentaje que puede que \"perjudique\" al otro.\n",
    "\n",
    "En el modelo de TF-IDF, el F1 Score fue de .87 y .81 para las clases 0 y 1.Representa un mejor rendimiento y es mas preciso que el metodo anterior."
   ]
  },
  {
   "cell_type": "markdown",
   "id": "3c94950d",
   "metadata": {},
   "source": [
    "#### AND"
   ]
  },
  {
   "cell_type": "markdown",
   "id": "a906c084",
   "metadata": {},
   "source": [
    "- Se logró construir dos modelos eficientes, utilizando dos técnicas de representación de texto diferentes, que sean capaces de clasificar correos electrónicos de SPAM de una forma altamente confiable.\n",
    "- El modelo construido utilizando la técnica de TF-IDF presentó resultados ligeramente mejores, especialmente en el conteo de Falsos Negativos (casos de SPAM clasificados como legítimos). Aún así, ambas técnicas son recomendables y efectivas para la representación de texto.\n",
    "- Posiblemente se hubiera contado con una mejor accuracy en los modelos con una mayor revicion de la data post analisis exploratorio y limpieza de datos"
   ]
  }
 ],
 "metadata": {
  "kernelspec": {
   "display_name": "Python 3 (ipykernel)",
   "language": "python",
   "name": "python3"
  },
  "language_info": {
   "codemirror_mode": {
    "name": "ipython",
    "version": 3
   },
   "file_extension": ".py",
   "mimetype": "text/x-python",
   "name": "python",
   "nbconvert_exporter": "python",
   "pygments_lexer": "ipython3",
   "version": "3.9.13"
  }
 },
 "nbformat": 4,
 "nbformat_minor": 5
}
