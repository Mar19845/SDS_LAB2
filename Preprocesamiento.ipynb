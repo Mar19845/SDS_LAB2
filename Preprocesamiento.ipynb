{
 "cells": [
  {
   "cell_type": "markdown",
   "id": "2b5b4939",
   "metadata": {},
   "source": [
    "# Pre-procesamiento de texto"
   ]
  },
  {
   "cell_type": "markdown",
   "id": "bc2ff184",
   "metadata": {},
   "source": [
    "## Conversion de mayúsculas o minúsculas"
   ]
  },
  {
   "cell_type": "code",
   "execution_count": null,
   "id": "fc4acf54",
   "metadata": {},
   "outputs": [],
   "source": [
    "oracion = 'ESTE es UN ejemplo DE mayusculas Y minusculas'\n",
    "oracion"
   ]
  },
  {
   "cell_type": "code",
   "execution_count": null,
   "id": "042c5ce1",
   "metadata": {},
   "outputs": [],
   "source": [
    "oracion.lower()"
   ]
  },
  {
   "cell_type": "code",
   "execution_count": null,
   "id": "cc289905",
   "metadata": {},
   "outputs": [],
   "source": [
    "oracion.upper()"
   ]
  },
  {
   "cell_type": "code",
   "execution_count": null,
   "id": "aaddba01",
   "metadata": {},
   "outputs": [],
   "source": [
    "oracion.title()"
   ]
  },
  {
   "cell_type": "markdown",
   "id": "c72901cc",
   "metadata": {},
   "source": [
    "nltk.download()## Tokens"
   ]
  },
  {
   "cell_type": "code",
   "execution_count": null,
   "id": "429024e4",
   "metadata": {},
   "outputs": [],
   "source": [
    "import nltk\n",
    "print(nltk.word_tokenize(oracion))"
   ]
  },
  {
   "cell_type": "markdown",
   "id": "bde094cc",
   "metadata": {},
   "source": [
    "## Acentos"
   ]
  },
  {
   "cell_type": "code",
   "execution_count": null,
   "id": "dcffc8d6",
   "metadata": {},
   "outputs": [],
   "source": [
    "import unicodedata\n",
    "\n",
    "def removerAcentos(texto):\n",
    "    texto = unicodedata.normalize('NFKD', texto).encode('ascii','ignore').decode('utf-8','ignore')\n",
    "    return texto"
   ]
  },
  {
   "cell_type": "code",
   "execution_count": null,
   "id": "96fb4cb8",
   "metadata": {},
   "outputs": [],
   "source": [
    "oracion = 'Esté es Un ÉJÉmpLó de data acentÚADá'\n",
    "oracion"
   ]
  },
  {
   "cell_type": "code",
   "execution_count": null,
   "id": "088363b5",
   "metadata": {},
   "outputs": [],
   "source": [
    "removerAcentos(oracion.lower())"
   ]
  },
  {
   "cell_type": "markdown",
   "id": "646766a9",
   "metadata": {},
   "source": [
    "## Caracteres especiales, números y símbolos"
   ]
  },
  {
   "cell_type": "code",
   "execution_count": null,
   "id": "7d133fd1",
   "metadata": {},
   "outputs": [],
   "source": [
    "import re\n",
    "def removerCaracteresEspecialesNumerosSimbolos(texto, removerDigitos =False):\n",
    "    patron = r'[^a-zA-Z0-9\\s]' if not removerDigitos else r'[^a-zA-Z\\s]'\n",
    "    texto = re.sub(patron,'', texto)\n",
    "    return texto\n",
    "oracion = 'Hoy es el partido de fútbol a las 7:45 @$%&'\n",
    "removerCaracteresEspecialesNumerosSimbolos(removerAcentos(oracion))\n"
   ]
  },
  {
   "cell_type": "code",
   "execution_count": null,
   "id": "089eec51",
   "metadata": {},
   "outputs": [],
   "source": [
    "removerCaracteresEspecialesNumerosSimbolos(removerAcentos(oracion), True)"
   ]
  },
  {
   "cell_type": "markdown",
   "id": "99d39b53",
   "metadata": {},
   "source": [
    "## Contracciones en el texto"
   ]
  },
  {
   "cell_type": "code",
   "execution_count": 7,
   "id": "387d6233",
   "metadata": {},
   "outputs": [
    {
     "name": "stdout",
     "output_type": "stream",
     "text": [
      "Defaulting to user installation because normal site-packages is not writeable\n",
      "Requirement already satisfied: contractions in c:\\users\\melma\\appdata\\roaming\\python\\python39\\site-packages (0.1.73)\n",
      "Requirement already satisfied: textsearch>=0.0.21 in c:\\users\\melma\\appdata\\roaming\\python\\python39\\site-packages (from contractions) (0.0.24)\n",
      "Requirement already satisfied: anyascii in c:\\users\\melma\\appdata\\roaming\\python\\python39\\site-packages (from textsearch>=0.0.21->contractions) (0.3.1)\n",
      "Requirement already satisfied: pyahocorasick in c:\\users\\melma\\appdata\\roaming\\python\\python39\\site-packages (from textsearch>=0.0.21->contractions) (2.0.0)\n"
     ]
    },
    {
     "name": "stderr",
     "output_type": "stream",
     "text": [
      "WARNING: Ignoring invalid distribution -illow (c:\\users\\melma\\appdata\\roaming\\python\\python39\\site-packages)\n",
      "WARNING: Ignoring invalid distribution -illow (c:\\users\\melma\\appdata\\roaming\\python\\python39\\site-packages)\n",
      "WARNING: Ignoring invalid distribution -illow (c:\\users\\melma\\appdata\\roaming\\python\\python39\\site-packages)\n",
      "WARNING: Ignoring invalid distribution -illow (c:\\users\\melma\\appdata\\roaming\\python\\python39\\site-packages)\n",
      "WARNING: Ignoring invalid distribution -illow (c:\\users\\melma\\appdata\\roaming\\python\\python39\\site-packages)\n",
      "WARNING: Ignoring invalid distribution -illow (c:\\users\\melma\\appdata\\roaming\\python\\python39\\site-packages)\n"
     ]
    },
    {
     "name": "stdout",
     "output_type": "stream",
     "text": [
      "Defaulting to user installation because normal site-packages is not writeable\n",
      "Requirement already satisfied: textsearch in c:\\users\\melma\\appdata\\roaming\\python\\python39\\site-packages (0.0.24)\n",
      "Requirement already satisfied: anyascii in c:\\users\\melma\\appdata\\roaming\\python\\python39\\site-packages (from textsearch) (0.3.1)\n",
      "Requirement already satisfied: pyahocorasick in c:\\users\\melma\\appdata\\roaming\\python\\python39\\site-packages (from textsearch) (2.0.0)\n"
     ]
    },
    {
     "name": "stderr",
     "output_type": "stream",
     "text": [
      "WARNING: Ignoring invalid distribution -illow (c:\\users\\melma\\appdata\\roaming\\python\\python39\\site-packages)\n",
      "WARNING: Ignoring invalid distribution -illow (c:\\users\\melma\\appdata\\roaming\\python\\python39\\site-packages)\n",
      "WARNING: Ignoring invalid distribution -illow (c:\\users\\melma\\appdata\\roaming\\python\\python39\\site-packages)\n",
      "WARNING: Ignoring invalid distribution -illow (c:\\users\\melma\\appdata\\roaming\\python\\python39\\site-packages)\n",
      "WARNING: Ignoring invalid distribution -illow (c:\\users\\melma\\appdata\\roaming\\python\\python39\\site-packages)\n",
      "WARNING: Ignoring invalid distribution -illow (c:\\users\\melma\\appdata\\roaming\\python\\python39\\site-packages)\n"
     ]
    }
   ],
   "source": [
    "!pip install contractions\n",
    "!pip install textsearch"
   ]
  },
  {
   "cell_type": "code",
   "execution_count": 8,
   "id": "00f40da6",
   "metadata": {},
   "outputs": [
    {
     "data": {
      "text/plain": [
       "\"Y'all can't expand contractions I'd think! You wouldn't be able to. How'd you do it?\""
      ]
     },
     "execution_count": 8,
     "metadata": {},
     "output_type": "execute_result"
    }
   ],
   "source": [
    "texto = \"Y'all can't expand contractions I'd think! You wouldn't be able to. How'd you do it?\"\n",
    "texto"
   ]
  },
  {
   "cell_type": "code",
   "execution_count": 9,
   "id": "f1286a7c",
   "metadata": {},
   "outputs": [
    {
     "data": {
      "text/plain": [
       "[(\"I'm\", 'I am'),\n",
       " (\"I'm'a\", 'I am about to'),\n",
       " (\"I'm'o\", 'I am going to'),\n",
       " (\"I've\", 'I have'),\n",
       " (\"I'll\", 'I will'),\n",
       " (\"I'll've\", 'I will have'),\n",
       " (\"I'd\", 'I would'),\n",
       " (\"I'd've\", 'I would have'),\n",
       " ('Whatcha', 'What are you'),\n",
       " (\"amn't\", 'am not')]"
      ]
     },
     "execution_count": 9,
     "metadata": {},
     "output_type": "execute_result"
    }
   ],
   "source": [
    "import contractions\n",
    "list(contractions.contractions_dict.items())[:10]"
   ]
  },
  {
   "cell_type": "code",
   "execution_count": 10,
   "id": "3b92ccfc",
   "metadata": {},
   "outputs": [
    {
     "data": {
      "text/plain": [
       "'You all cannot expand contractions I would think! You would not be able to. How did you do it?'"
      ]
     },
     "execution_count": 10,
     "metadata": {},
     "output_type": "execute_result"
    }
   ],
   "source": [
    "t = contractions.fix(texto)\n",
    "t"
   ]
  },
  {
   "cell_type": "markdown",
   "id": "2507f326",
   "metadata": {},
   "source": [
    "## Stop Words"
   ]
  },
  {
   "cell_type": "code",
   "execution_count": 1,
   "id": "5c0c8270",
   "metadata": {},
   "outputs": [
    {
     "name": "stderr",
     "output_type": "stream",
     "text": [
      "[nltk_data] Downloading package stopwords to\n",
      "[nltk_data]     C:\\Users\\melma\\AppData\\Roaming\\nltk_data...\n",
      "[nltk_data]   Package stopwords is already up-to-date!\n"
     ]
    },
    {
     "data": {
      "text/plain": [
       "True"
      ]
     },
     "execution_count": 1,
     "metadata": {},
     "output_type": "execute_result"
    }
   ],
   "source": [
    "oracion = 'ESTE es UN ejemplo DE mayusculas Y minusculas'\n",
    "import nltk\n",
    "nltk.download('stopwords')\n",
    "#nltk.download()\n"
   ]
  },
  {
   "cell_type": "code",
   "execution_count": 3,
   "id": "00a95eb8",
   "metadata": {},
   "outputs": [
    {
     "data": {
      "text/plain": [
       "['este', 'es', 'un', 'ejemplo', 'de', 'mayusculas', 'y', 'minusculas']"
      ]
     },
     "execution_count": 3,
     "metadata": {},
     "output_type": "execute_result"
    }
   ],
   "source": [
    "tokens = nltk.word_tokenize(oracion.lower())\n",
    "tokens"
   ]
  },
  {
   "cell_type": "code",
   "execution_count": 4,
   "id": "f579b1c3",
   "metadata": {},
   "outputs": [
    {
     "data": {
      "text/plain": [
       "['ejemplo', 'mayusculas', 'minusculas']"
      ]
     },
     "execution_count": 4,
     "metadata": {},
     "output_type": "execute_result"
    }
   ],
   "source": [
    "stop_words_spanish = nltk.corpus.stopwords.words('spanish')\n",
    "tokens_filtrados = [token for token in tokens if token not in stop_words_spanish]\n",
    "tokens_filtrados"
   ]
  },
  {
   "cell_type": "code",
   "execution_count": 5,
   "id": "9071c671",
   "metadata": {},
   "outputs": [],
   "source": [
    "stop_words_english = nltk.corpus.stopwords.words('english')"
   ]
  },
  {
   "cell_type": "code",
   "execution_count": 11,
   "id": "bb5c57b6",
   "metadata": {},
   "outputs": [
    {
     "data": {
      "text/plain": [
       "\"Y'all can't expand contractions I'd think! You wouldn't be able to. How'd you do it?\""
      ]
     },
     "execution_count": 11,
     "metadata": {},
     "output_type": "execute_result"
    }
   ],
   "source": [
    "tokens_english = nltk.word_tokenize(contractions.fix(texto))\n",
    "tokens_filtrados_english = [token for token in tokens_english if token not in stop_words_english]\n",
    "texto\n"
   ]
  },
  {
   "cell_type": "code",
   "execution_count": 12,
   "id": "bd445c8f",
   "metadata": {},
   "outputs": [
    {
     "data": {
      "text/plain": [
       "['You',\n",
       " 'expand',\n",
       " 'contractions',\n",
       " 'I',\n",
       " 'would',\n",
       " 'think',\n",
       " '!',\n",
       " 'You',\n",
       " 'would',\n",
       " 'able',\n",
       " '.',\n",
       " 'How',\n",
       " '?']"
      ]
     },
     "execution_count": 12,
     "metadata": {},
     "output_type": "execute_result"
    }
   ],
   "source": [
    "tokens_filtrados_english"
   ]
  },
  {
   "cell_type": "markdown",
   "id": "6e8c47e7",
   "metadata": {},
   "source": [
    "## Stemming"
   ]
  },
  {
   "cell_type": "code",
   "execution_count": null,
   "id": "6e996cd9",
   "metadata": {},
   "outputs": [],
   "source": [
    "from nltk.stem import PorterStemmer\n",
    "ps = PorterStemmer()\n",
    "ps.stem('jumping'), ps.stem('jumps'), ps.stem('jumped')\n"
   ]
  },
  {
   "cell_type": "markdown",
   "id": "08a4dc9c",
   "metadata": {},
   "source": [
    "## Lemmatization"
   ]
  },
  {
   "cell_type": "code",
   "execution_count": null,
   "id": "56c1ff8d",
   "metadata": {},
   "outputs": [],
   "source": [
    "from nltk.stem import WordNetLemmatizer\n",
    "wnl = WordNetLemmatizer()"
   ]
  },
  {
   "cell_type": "code",
   "execution_count": null,
   "id": "433c5c2c",
   "metadata": {},
   "outputs": [],
   "source": [
    "#Lemmatize sustantivos\n",
    "print(wnl.lemmatize('cars', 'n'))\n",
    "print(wnl.lemmatize('boxes', 'n'))"
   ]
  },
  {
   "cell_type": "code",
   "execution_count": null,
   "id": "0a714a18",
   "metadata": {},
   "outputs": [],
   "source": [
    "#Lemmatize verbos\n",
    "print(wnl.lemmatize('jumped', 'v'))\n",
    "print(wnl.lemmatize('jumping', 'v'))"
   ]
  },
  {
   "cell_type": "code",
   "execution_count": null,
   "id": "7932a375",
   "metadata": {},
   "outputs": [],
   "source": [
    "#Lemmatize adjetivos\n",
    "print(wnl.lemmatize('saddest', 'a'))\n",
    "print(wnl.lemmatize('fancier', 'a'))"
   ]
  },
  {
   "cell_type": "code",
   "execution_count": null,
   "id": "b29d3e32",
   "metadata": {},
   "outputs": [],
   "source": []
  }
 ],
 "metadata": {
  "kernelspec": {
   "display_name": "Python 3 (ipykernel)",
   "language": "python",
   "name": "python3"
  },
  "language_info": {
   "codemirror_mode": {
    "name": "ipython",
    "version": 3
   },
   "file_extension": ".py",
   "mimetype": "text/x-python",
   "name": "python",
   "nbconvert_exporter": "python",
   "pygments_lexer": "ipython3",
   "version": "3.9.13"
  },
  "vscode": {
   "interpreter": {
    "hash": "5c7b89af1651d0b8571dde13640ecdccf7d5a6204171d6ab33e7c296e100e08a"
   }
  }
 },
 "nbformat": 4,
 "nbformat_minor": 5
}
